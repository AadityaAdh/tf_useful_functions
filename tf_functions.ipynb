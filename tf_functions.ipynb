{
  "nbformat": 4,
  "nbformat_minor": 0,
  "metadata": {
    "colab": {
      "provenance": [],
      "authorship_tag": "ABX9TyNcTLxBkEuIyEWo7WPGQxl8",
      "include_colab_link": true
    },
    "kernelspec": {
      "name": "python3",
      "display_name": "Python 3"
    },
    "language_info": {
      "name": "python"
    }
  },
  "cells": [
    {
      "cell_type": "markdown",
      "metadata": {
        "id": "view-in-github",
        "colab_type": "text"
      },
      "source": [
        "<a href=\"https://colab.research.google.com/github/AadityaAdh/tf_useful_functions/blob/main/tf_functions.ipynb\" target=\"_parent\"><img src=\"https://colab.research.google.com/assets/colab-badge.svg\" alt=\"Open In Colab\"/></a>"
      ]
    },
    {
      "cell_type": "code",
      "execution_count": 3,
      "metadata": {
        "id": "nWRRPjYEBSCT"
      },
      "outputs": [],
      "source": [
        "import tensorflow as tf"
      ]
    },
    {
      "cell_type": "markdown",
      "source": [
        "#Common tensorflow functions"
      ],
      "metadata": {
        "id": "dD8iYaHgBX7o"
      }
    },
    {
      "cell_type": "markdown",
      "source": [
        "#To increase dimension: tf.expand_dims\n",
        "\n",
        "Returns a tensor with a length 1 axis inserted at index axis.\n",
        "\n",
        "\n",
        "dimension baduna kunai element halni haina ki\n",
        "bracket thapni vaya ho\n",
        "kaa thapni vanae ra chai axis lae vanxa\n",
        "\n",
        "tf.expand_dims(\n",
        "\n",
        "  \n",
        "    input, axis, name=None\n",
        ")\n"
      ],
      "metadata": {
        "id": "gS0oy8TbBc8O"
      }
    },
    {
      "cell_type": "code",
      "source": [
        "image = tf.zeros([2,2,3])\n",
        "image"
      ],
      "metadata": {
        "colab": {
          "base_uri": "https://localhost:8080/"
        },
        "id": "-r5pPbVZBb2C",
        "outputId": "cbc73295-e92c-4509-bbc5-aca53b1f77c0"
      },
      "execution_count": null,
      "outputs": [
        {
          "output_type": "execute_result",
          "data": {
            "text/plain": [
              "<tf.Tensor: shape=(2, 2, 3), dtype=float32, numpy=\n",
              "array([[[0., 0., 0.],\n",
              "        [0., 0., 0.]],\n",
              "\n",
              "       [[0., 0., 0.],\n",
              "        [0., 0., 0.]]], dtype=float32)>"
            ]
          },
          "metadata": {},
          "execution_count": 6
        }
      ]
    },
    {
      "cell_type": "code",
      "source": [
        "tf.expand_dims(image, axis=0).shape\n"
      ],
      "metadata": {
        "colab": {
          "base_uri": "https://localhost:8080/"
        },
        "id": "IEdogw5lCB9g",
        "outputId": "11704de9-8629-4993-8eb3-7e90f7e63eb0"
      },
      "execution_count": null,
      "outputs": [
        {
          "output_type": "execute_result",
          "data": {
            "text/plain": [
              "TensorShape([1, 10, 10, 3])"
            ]
          },
          "metadata": {},
          "execution_count": 4
        }
      ]
    },
    {
      "cell_type": "code",
      "source": [
        "tf.expand_dims(image, axis=1)\n",
        "#shape ko index 1 ma 1 aako jasto ho"
      ],
      "metadata": {
        "colab": {
          "base_uri": "https://localhost:8080/"
        },
        "id": "F74x7-X2CWrU",
        "outputId": "ed84a228-d7d8-4df0-dd08-50098b568246"
      },
      "execution_count": null,
      "outputs": [
        {
          "output_type": "execute_result",
          "data": {
            "text/plain": [
              "<tf.Tensor: shape=(2, 1, 2, 3), dtype=float32, numpy=\n",
              "array([[[[0., 0., 0.],\n",
              "         [0., 0., 0.]]],\n",
              "\n",
              "\n",
              "       [[[0., 0., 0.],\n",
              "         [0., 0., 0.]]]], dtype=float32)>"
            ]
          },
          "metadata": {},
          "execution_count": 7
        }
      ]
    },
    {
      "cell_type": "code",
      "source": [
        "tf.expand_dims(image, axis=2)"
      ],
      "metadata": {
        "colab": {
          "base_uri": "https://localhost:8080/"
        },
        "id": "rN4sMK4QCeE1",
        "outputId": "463bec71-c9af-47db-bf4d-8914f5e6e219"
      },
      "execution_count": null,
      "outputs": [
        {
          "output_type": "execute_result",
          "data": {
            "text/plain": [
              "<tf.Tensor: shape=(2, 2, 1, 3), dtype=float32, numpy=\n",
              "array([[[[0., 0., 0.]],\n",
              "\n",
              "        [[0., 0., 0.]]],\n",
              "\n",
              "\n",
              "       [[[0., 0., 0.]],\n",
              "\n",
              "        [[0., 0., 0.]]]], dtype=float32)>"
            ]
          },
          "metadata": {},
          "execution_count": 9
        }
      ]
    },
    {
      "cell_type": "code",
      "source": [
        "tf.reshape(image,(2,2,1,3))"
      ],
      "metadata": {
        "colab": {
          "base_uri": "https://localhost:8080/"
        },
        "id": "huCIeOTjDQiB",
        "outputId": "128fc4e0-79d7-4a49-cd50-e564fabae3a5"
      },
      "execution_count": null,
      "outputs": [
        {
          "output_type": "execute_result",
          "data": {
            "text/plain": [
              "<tf.Tensor: shape=(2, 2, 1, 3), dtype=float32, numpy=\n",
              "array([[[[0., 0., 0.]],\n",
              "\n",
              "        [[0., 0., 0.]]],\n",
              "\n",
              "\n",
              "       [[[0., 0., 0.]],\n",
              "\n",
              "        [[0., 0., 0.]]]], dtype=float32)>"
            ]
          },
          "metadata": {},
          "execution_count": 11
        }
      ]
    },
    {
      "cell_type": "markdown",
      "source": [
        "#reshape garnu ra expanding dims garnu yeutai ho\n",
        "yedi final output ko shape milni tha xa vanae rehspe use garni\n",
        "\n",
        "natra expand_dims garni"
      ],
      "metadata": {
        "id": "TG3ArhQ4D_2a"
      }
    },
    {
      "cell_type": "markdown",
      "source": [
        "#Squeeze tf.squeeze\n",
        "#shape ma jaa jaa 1 xa tyo sabbai hatxa\n",
        "\n",
        "Removes dimensions of size 1 from the shape of a tensor.\n",
        "\n",
        "tf.squeeze(\n",
        "\n",
        "\n",
        "    input, axis=None, name=None\n",
        ")\n",
        "\n",
        "\n",
        "1 shape ko khasai significance hudaina so squeeze gardini ie:\n",
        "\n",
        "[[m1]]\n",
        "lekhnu satta [m1] lekhnu ramro ra indexing garna sajilo hunxa\n",
        "\n"
      ],
      "metadata": {
        "id": "8RUZcKrTEfn_"
      }
    },
    {
      "cell_type": "code",
      "source": [
        "x=tf.constant([1,2,3,4,5,6],shape=[1,1,1,6])\n",
        "x"
      ],
      "metadata": {
        "colab": {
          "base_uri": "https://localhost:8080/"
        },
        "id": "57MwQuh0Dn7q",
        "outputId": "bca4968c-7550-4ed3-9418-1bf39b92036a"
      },
      "execution_count": null,
      "outputs": [
        {
          "output_type": "execute_result",
          "data": {
            "text/plain": [
              "<tf.Tensor: shape=(1, 1, 1, 6), dtype=int32, numpy=array([[[[1, 2, 3, 4, 5, 6]]]], dtype=int32)>"
            ]
          },
          "metadata": {},
          "execution_count": 12
        }
      ]
    },
    {
      "cell_type": "code",
      "source": [
        "#aaba (1, 1, 1, 6) ma squeeze garda baki hunxa 6 matra as jaa jaa 1 xa tyo sabbai hatxa\n",
        "tf.squeeze(x)"
      ],
      "metadata": {
        "colab": {
          "base_uri": "https://localhost:8080/"
        },
        "id": "wkd53X6iGEAp",
        "outputId": "db0e7eb2-34c2-43e6-9762-423fef720ac8"
      },
      "execution_count": null,
      "outputs": [
        {
          "output_type": "execute_result",
          "data": {
            "text/plain": [
              "<tf.Tensor: shape=(6,), dtype=int32, numpy=array([1, 2, 3, 4, 5, 6], dtype=int32)>"
            ]
          },
          "metadata": {},
          "execution_count": 13
        }
      ]
    },
    {
      "cell_type": "code",
      "source": [
        "x=tf.constant([1,2,3,4,5,6],shape=[1,1,1,6])\n",
        "x"
      ],
      "metadata": {
        "colab": {
          "base_uri": "https://localhost:8080/"
        },
        "id": "C89-bkxjGatm",
        "outputId": "e561ae22-94bf-47ea-db44-7462f1f5c144"
      },
      "execution_count": null,
      "outputs": [
        {
          "output_type": "execute_result",
          "data": {
            "text/plain": [
              "<tf.Tensor: shape=(1, 1, 1, 6), dtype=int32, numpy=array([[[[1, 2, 3, 4, 5, 6]]]], dtype=int32)>"
            ]
          },
          "metadata": {},
          "execution_count": 14
        }
      ]
    },
    {
      "cell_type": "code",
      "source": [
        "#tara yedi kunai kunai matrai 1 hataunu xa vanae tyo axis specify garnu parxa ie\n",
        "#shape=(1, 1, 1, 6) yedi 2nd ra 3rd ko 1  hataunu xa vanae tesko axis vanae ko 1 ra 2 ho\n",
        "#so specify it in axis\n",
        "tf.squeeze(x,[1,2]).shape"
      ],
      "metadata": {
        "colab": {
          "base_uri": "https://localhost:8080/"
        },
        "id": "K_pgcZR3GdCW",
        "outputId": "2b6f7b39-2df6-4298-d31b-9efa79b61227"
      },
      "execution_count": null,
      "outputs": [
        {
          "output_type": "execute_result",
          "data": {
            "text/plain": [
              "TensorShape([1, 6])"
            ]
          },
          "metadata": {},
          "execution_count": 15
        }
      ]
    },
    {
      "cell_type": "markdown",
      "source": [
        "#Reshape tf.reshape\n",
        "\n",
        "\n",
        "Reshapes a tensor.\n",
        "\n",
        "tf.reshape(\n",
        "\n",
        "\n",
        "    tensor, shape, name=None\n",
        ")\n",
        "\n"
      ],
      "metadata": {
        "id": "pjSxgLkZFRyS"
      }
    },
    {
      "cell_type": "code",
      "source": [
        "t1 = [[1, 2, 3],\n",
        "      [4, 5, 6]]\n",
        "print(tf.shape(t1).numpy())\n",
        "\n",
        "\n",
        "\n",
        "\n",
        "\n"
      ],
      "metadata": {
        "id": "JZgbl_AyG7Ub",
        "colab": {
          "base_uri": "https://localhost:8080/"
        },
        "outputId": "8ee9652c-993c-4124-98b0-702605250f99"
      },
      "execution_count": null,
      "outputs": [
        {
          "output_type": "stream",
          "name": "stdout",
          "text": [
            "[2 3]\n"
          ]
        }
      ]
    },
    {
      "cell_type": "code",
      "source": [
        "t2 = tf.reshape(t1, [6])\n",
        "t2\n"
      ],
      "metadata": {
        "colab": {
          "base_uri": "https://localhost:8080/"
        },
        "id": "Vgn-XQYgFtcR",
        "outputId": "9170012c-92f6-45fd-c359-e15bae7b6539"
      },
      "execution_count": null,
      "outputs": [
        {
          "output_type": "execute_result",
          "data": {
            "text/plain": [
              "<tf.Tensor: shape=(6,), dtype=int32, numpy=array([1, 2, 3, 4, 5, 6], dtype=int32)>"
            ]
          },
          "metadata": {},
          "execution_count": 4
        }
      ]
    },
    {
      "cell_type": "code",
      "source": [
        "tf.reshape(t2, [3, 2])"
      ],
      "metadata": {
        "id": "zIpALpkzF2C7"
      },
      "execution_count": null,
      "outputs": []
    },
    {
      "cell_type": "markdown",
      "source": [
        "#Concatinating tf.concat\n",
        "\n",
        "\n",
        "\n",
        "Concatenates tensors along one dimension.\n",
        "\n",
        "tf.concat(\n",
        "\n",
        "\n",
        "    values, axis, name='concat'\n",
        ")\n",
        "\n",
        "\n"
      ],
      "metadata": {
        "id": "WxLg9jDvGNCP"
      }
    },
    {
      "cell_type": "code",
      "source": [
        "#column concatinate vayo\n",
        "#or 1st 1st  matrix jodiyo\n",
        "#colum wise\n",
        "#2nd 2nd ma ni same\n",
        "t1 = [[[1, 2], [2, 3]], [[4, 4], [5, 3]]]\n",
        "t2 = [[[7, 4], [8, 4]], [[2, 10], [15, 11]]]\n",
        "tf.concat([t1, t2], 2)\n"
      ],
      "metadata": {
        "colab": {
          "base_uri": "https://localhost:8080/"
        },
        "id": "6J32LyhxGh_t",
        "outputId": "08b8bde0-d272-4eae-e5b9-bad04443e119"
      },
      "execution_count": null,
      "outputs": [
        {
          "output_type": "execute_result",
          "data": {
            "text/plain": [
              "<tf.Tensor: shape=(2, 2, 4), dtype=int32, numpy=\n",
              "array([[[ 1,  2,  7,  4],\n",
              "        [ 2,  3,  8,  4]],\n",
              "\n",
              "       [[ 4,  4,  2, 10],\n",
              "        [ 5,  3, 15, 11]]], dtype=int32)>"
            ]
          },
          "metadata": {},
          "execution_count": 6
        }
      ]
    },
    {
      "cell_type": "code",
      "source": [
        "tf.concat([t1, t2], 1)\n",
        "#row wise basyo"
      ],
      "metadata": {
        "colab": {
          "base_uri": "https://localhost:8080/"
        },
        "id": "X22tLuK_GqoI",
        "outputId": "942ed8ea-ef5b-4877-dcde-f78998fd1068"
      },
      "execution_count": null,
      "outputs": [
        {
          "output_type": "execute_result",
          "data": {
            "text/plain": [
              "<tf.Tensor: shape=(2, 4, 2), dtype=int32, numpy=\n",
              "array([[[ 1,  2],\n",
              "        [ 2,  3],\n",
              "        [ 7,  4],\n",
              "        [ 8,  4]],\n",
              "\n",
              "       [[ 4,  4],\n",
              "        [ 5,  3],\n",
              "        [ 2, 10],\n",
              "        [15, 11]]], dtype=int32)>"
            ]
          },
          "metadata": {},
          "execution_count": 7
        }
      ]
    },
    {
      "cell_type": "code",
      "source": [
        "tf.concat([t1, t2], 0)\n",
        "#dimesnion ni badyo\n",
        "#as naya array banyo duita matrix store garna"
      ],
      "metadata": {
        "colab": {
          "base_uri": "https://localhost:8080/"
        },
        "id": "zLPUfnLcH2Dk",
        "outputId": "3f7cb3d0-3375-49aa-c622-d0c665db4884"
      },
      "execution_count": null,
      "outputs": [
        {
          "output_type": "execute_result",
          "data": {
            "text/plain": [
              "<tf.Tensor: shape=(4, 2, 2), dtype=int32, numpy=\n",
              "array([[[ 1,  2],\n",
              "        [ 2,  3]],\n",
              "\n",
              "       [[ 4,  4],\n",
              "        [ 5,  3]],\n",
              "\n",
              "       [[ 7,  4],\n",
              "        [ 8,  4]],\n",
              "\n",
              "       [[ 2, 10],\n",
              "        [15, 11]]], dtype=int32)>"
            ]
          },
          "metadata": {},
          "execution_count": 9
        }
      ]
    },
    {
      "cell_type": "markdown",
      "source": [
        "#Stacking tf.stack\n",
        "#tf.stack introduces a new axis and increases the rank of the tensors.\n",
        "#tf.concat concatenates along an existing axis and maintains the rank of the tensors.\n",
        "\n",
        "concatinating joins tensors along an existing axis\n",
        "stacking joins tensors along a new axis\n"
      ],
      "metadata": {
        "id": "TMXXbUYzMRIT"
      }
    },
    {
      "cell_type": "code",
      "source": [
        "\n",
        "\n",
        "# Creating three 3-dimensional tensors\n",
        "tensor1 = tf.constant([[[1, 2, 3], [4, 5, 6], [7, 8, 9]],\n",
        "                      [[10, 11, 12], [13, 14, 15], [16, 17, 18]],\n",
        "                      [[19, 20, 21], [22, 23, 24], [25, 26, 27]]])\n",
        "\n",
        "tensor2 = tf.constant([[[28, 29, 30], [31, 32, 33], [34, 35, 36]],\n",
        "                      [[37, 38, 39], [40, 41, 42], [43, 44, 45]],\n",
        "                      [[46, 47, 48], [49, 50, 51], [52, 53, 54]]])\n",
        "tensor1\n"
      ],
      "metadata": {
        "id": "Q-dU1dyrH_M-",
        "colab": {
          "base_uri": "https://localhost:8080/"
        },
        "outputId": "ebab7234-a4ac-4e6b-e0ce-71bb6f511893"
      },
      "execution_count": 4,
      "outputs": [
        {
          "output_type": "execute_result",
          "data": {
            "text/plain": [
              "<tf.Tensor: shape=(3, 3, 3), dtype=int32, numpy=\n",
              "array([[[ 1,  2,  3],\n",
              "        [ 4,  5,  6],\n",
              "        [ 7,  8,  9]],\n",
              "\n",
              "       [[10, 11, 12],\n",
              "        [13, 14, 15],\n",
              "        [16, 17, 18]],\n",
              "\n",
              "       [[19, 20, 21],\n",
              "        [22, 23, 24],\n",
              "        [25, 26, 27]]], dtype=int32)>"
            ]
          },
          "metadata": {},
          "execution_count": 4
        }
      ]
    },
    {
      "cell_type": "code",
      "source": [
        "# Stacking along axis=0\n",
        "stacked_tensor_axis_0 = tf.stack([tensor1, tensor2], axis=0)\n",
        "stacked_tensor_axis_0"
      ],
      "metadata": {
        "colab": {
          "base_uri": "https://localhost:8080/"
        },
        "id": "v25osMnILS7t",
        "outputId": "02bbddd9-4338-4f21-8fbf-8e9a6b4d6f01"
      },
      "execution_count": null,
      "outputs": [
        {
          "output_type": "execute_result",
          "data": {
            "text/plain": [
              "<tf.Tensor: shape=(2, 3, 3, 3), dtype=int32, numpy=\n",
              "array([[[[ 1,  2,  3],\n",
              "         [ 4,  5,  6],\n",
              "         [ 7,  8,  9]],\n",
              "\n",
              "        [[10, 11, 12],\n",
              "         [13, 14, 15],\n",
              "         [16, 17, 18]],\n",
              "\n",
              "        [[19, 20, 21],\n",
              "         [22, 23, 24],\n",
              "         [25, 26, 27]]],\n",
              "\n",
              "\n",
              "       [[[28, 29, 30],\n",
              "         [31, 32, 33],\n",
              "         [34, 35, 36]],\n",
              "\n",
              "        [[37, 38, 39],\n",
              "         [40, 41, 42],\n",
              "         [43, 44, 45]],\n",
              "\n",
              "        [[46, 47, 48],\n",
              "         [49, 50, 51],\n",
              "         [52, 53, 54]]]], dtype=int32)>"
            ]
          },
          "metadata": {},
          "execution_count": 15
        }
      ]
    },
    {
      "cell_type": "code",
      "source": [
        "# Stacking along axis=1\n",
        "stacked_tensor_axis_1 = tf.stack([tensor1, tensor2], axis=1)\n",
        "stacked_tensor_axis_1\n",
        "\n",
        "\n"
      ],
      "metadata": {
        "colab": {
          "base_uri": "https://localhost:8080/"
        },
        "id": "TNTVsEHVLLKz",
        "outputId": "889ff62a-364d-4a76-dae2-8d55178ac876"
      },
      "execution_count": null,
      "outputs": [
        {
          "output_type": "execute_result",
          "data": {
            "text/plain": [
              "<tf.Tensor: shape=(3, 2, 3, 3), dtype=int32, numpy=\n",
              "array([[[[ 1,  2,  3],\n",
              "         [ 4,  5,  6],\n",
              "         [ 7,  8,  9]],\n",
              "\n",
              "        [[28, 29, 30],\n",
              "         [31, 32, 33],\n",
              "         [34, 35, 36]]],\n",
              "\n",
              "\n",
              "       [[[10, 11, 12],\n",
              "         [13, 14, 15],\n",
              "         [16, 17, 18]],\n",
              "\n",
              "        [[37, 38, 39],\n",
              "         [40, 41, 42],\n",
              "         [43, 44, 45]]],\n",
              "\n",
              "\n",
              "       [[[19, 20, 21],\n",
              "         [22, 23, 24],\n",
              "         [25, 26, 27]],\n",
              "\n",
              "        [[46, 47, 48],\n",
              "         [49, 50, 51],\n",
              "         [52, 53, 54]]]], dtype=int32)>"
            ]
          },
          "metadata": {},
          "execution_count": 18
        }
      ]
    },
    {
      "cell_type": "code",
      "source": [
        "\n",
        "# Stacking along axis=2\n",
        "stacked_tensor_axis_2 = tf.stack([tensor1, tensor2], axis=2)\n",
        "stacked_tensor_axis_2"
      ],
      "metadata": {
        "colab": {
          "base_uri": "https://localhost:8080/"
        },
        "id": "-pGv-hfALN6I",
        "outputId": "9daa39be-6a3e-430d-e003-a6c698b390f9"
      },
      "execution_count": null,
      "outputs": [
        {
          "output_type": "execute_result",
          "data": {
            "text/plain": [
              "<tf.Tensor: shape=(3, 3, 2, 3), dtype=int32, numpy=\n",
              "array([[[[ 1,  2,  3],\n",
              "         [28, 29, 30]],\n",
              "\n",
              "        [[ 4,  5,  6],\n",
              "         [31, 32, 33]],\n",
              "\n",
              "        [[ 7,  8,  9],\n",
              "         [34, 35, 36]]],\n",
              "\n",
              "\n",
              "       [[[10, 11, 12],\n",
              "         [37, 38, 39]],\n",
              "\n",
              "        [[13, 14, 15],\n",
              "         [40, 41, 42]],\n",
              "\n",
              "        [[16, 17, 18],\n",
              "         [43, 44, 45]]],\n",
              "\n",
              "\n",
              "       [[[19, 20, 21],\n",
              "         [46, 47, 48]],\n",
              "\n",
              "        [[22, 23, 24],\n",
              "         [49, 50, 51]],\n",
              "\n",
              "        [[25, 26, 27],\n",
              "         [52, 53, 54]]]], dtype=int32)>"
            ]
          },
          "metadata": {},
          "execution_count": 19
        }
      ]
    },
    {
      "cell_type": "code",
      "source": [
        "#in 3d\n",
        "import numpy as np\n",
        "t1_in3d=tf.constant(np.arange(1,28),shape=[3,3,3])\n",
        "t1_in3d"
      ],
      "metadata": {
        "id": "UY7CAlBwLOxp",
        "colab": {
          "base_uri": "https://localhost:8080/"
        },
        "outputId": "bc03524e-a1ad-4cc4-8b14-75ff4e8db38d"
      },
      "execution_count": 13,
      "outputs": [
        {
          "output_type": "execute_result",
          "data": {
            "text/plain": [
              "<tf.Tensor: shape=(3, 3, 3), dtype=int64, numpy=\n",
              "array([[[ 1,  2,  3],\n",
              "        [ 4,  5,  6],\n",
              "        [ 7,  8,  9]],\n",
              "\n",
              "       [[10, 11, 12],\n",
              "        [13, 14, 15],\n",
              "        [16, 17, 18]],\n",
              "\n",
              "       [[19, 20, 21],\n",
              "        [22, 23, 24],\n",
              "        [25, 26, 27]]])>"
            ]
          },
          "metadata": {},
          "execution_count": 13
        }
      ]
    },
    {
      "cell_type": "code",
      "source": [
        "t2_in3d=tf.constant(np.arange(28,55),shape=[3,3,3])\n",
        "t2_in3d"
      ],
      "metadata": {
        "colab": {
          "base_uri": "https://localhost:8080/"
        },
        "id": "mQbLFwH_4ER9",
        "outputId": "fdeb4b5b-d286-454c-d7f3-a00c6b85dcd1"
      },
      "execution_count": 7,
      "outputs": [
        {
          "output_type": "execute_result",
          "data": {
            "text/plain": [
              "<tf.Tensor: shape=(3, 3, 3), dtype=int64, numpy=\n",
              "array([[[28, 29, 30],\n",
              "        [31, 32, 33],\n",
              "        [34, 35, 36]],\n",
              "\n",
              "       [[37, 38, 39],\n",
              "        [40, 41, 42],\n",
              "        [43, 44, 45]],\n",
              "\n",
              "       [[46, 47, 48],\n",
              "        [49, 50, 51],\n",
              "        [52, 53, 54]]])>"
            ]
          },
          "metadata": {},
          "execution_count": 7
        }
      ]
    },
    {
      "cell_type": "code",
      "source": [
        "t3_in3d=tf.constant(np.arange(55,82),shape=[3,3,3])\n",
        "t3_in3d"
      ],
      "metadata": {
        "colab": {
          "base_uri": "https://localhost:8080/"
        },
        "id": "ygbrJjqS6PCj",
        "outputId": "91b37a7a-10fb-45c0-fa78-cfbc1aac00c8"
      },
      "execution_count": 11,
      "outputs": [
        {
          "output_type": "execute_result",
          "data": {
            "text/plain": [
              "<tf.Tensor: shape=(3, 3, 3), dtype=int64, numpy=\n",
              "array([[[55, 56, 57],\n",
              "        [58, 59, 60],\n",
              "        [61, 62, 63]],\n",
              "\n",
              "       [[64, 65, 66],\n",
              "        [67, 68, 69],\n",
              "        [70, 71, 72]],\n",
              "\n",
              "       [[73, 74, 75],\n",
              "        [76, 77, 78],\n",
              "        [79, 80, 81]]])>"
            ]
          },
          "metadata": {},
          "execution_count": 11
        }
      ]
    },
    {
      "cell_type": "markdown",
      "source": [
        "#concat vs stack\n",
        "concat yedi row ra column axis ma garya xa vanae matrix lai kholae ra garxa\n",
        "\n",
        "\n",
        "stack ko concept aarkai\n",
        "yeuta matrix lai aarko ko top ma rakhnu ho\n",
        "yedi existing shape(3,3,3)\n",
        "xa aani axis 0 ma stack garya xa vanae\n",
        "shape ko 0th index ma aarko value thapni ho\n",
        "yedi vitra 2 ta tensors xa vanae\n",
        "staack ko result ko shape(2,3,3,3) hunxa\n",
        "yedi axis 1 result shape(3,2,3,3) hunxa\n",
        "\n",
        "so usage:\n",
        "yedi duita matrix lai jode ra yeuta banaunu xa vanae concat use garam\n",
        "tara haina malai sangai sangai matra rakhxu tara na jodi vanae stack garam"
      ],
      "metadata": {
        "id": "AUvI0jJq422o"
      }
    },
    {
      "cell_type": "markdown",
      "source": [
        "#concat vs stack\n",
        "Axis 0"
      ],
      "metadata": {
        "id": "YPOjCUJs6xXy"
      }
    },
    {
      "cell_type": "code",
      "source": [
        "contensor=tf.concat([t1_in3d,t2_in3d,t3_in3d],0)\n",
        "#vanya  sangsangai rakhni vanya\n",
        "#sabbai lai sang sangai rakhni matrai vanya ho\n",
        "contensor\n",
        "\n",
        "\n",
        "\n"
      ],
      "metadata": {
        "colab": {
          "base_uri": "https://localhost:8080/"
        },
        "id": "vWIybNQ54UmE",
        "outputId": "fb1cfdc6-a1e3-47e4-ca45-14d23d223f38"
      },
      "execution_count": 17,
      "outputs": [
        {
          "output_type": "execute_result",
          "data": {
            "text/plain": [
              "<tf.Tensor: shape=(9, 3, 3), dtype=int64, numpy=\n",
              "array([[[ 1,  2,  3],\n",
              "        [ 4,  5,  6],\n",
              "        [ 7,  8,  9]],\n",
              "\n",
              "       [[10, 11, 12],\n",
              "        [13, 14, 15],\n",
              "        [16, 17, 18]],\n",
              "\n",
              "       [[19, 20, 21],\n",
              "        [22, 23, 24],\n",
              "        [25, 26, 27]],\n",
              "\n",
              "       [[28, 29, 30],\n",
              "        [31, 32, 33],\n",
              "        [34, 35, 36]],\n",
              "\n",
              "       [[37, 38, 39],\n",
              "        [40, 41, 42],\n",
              "        [43, 44, 45]],\n",
              "\n",
              "       [[46, 47, 48],\n",
              "        [49, 50, 51],\n",
              "        [52, 53, 54]],\n",
              "\n",
              "       [[55, 56, 57],\n",
              "        [58, 59, 60],\n",
              "        [61, 62, 63]],\n",
              "\n",
              "       [[64, 65, 66],\n",
              "        [67, 68, 69],\n",
              "        [70, 71, 72]],\n",
              "\n",
              "       [[73, 74, 75],\n",
              "        [76, 77, 78],\n",
              "        [79, 80, 81]]])>"
            ]
          },
          "metadata": {},
          "execution_count": 17
        }
      ]
    },
    {
      "cell_type": "code",
      "source": [
        "stacktensor=tf.stack([t1_in3d,t2_in3d,t3_in3d],0)\n",
        "#vanya  sangsangai rakhni vanya\n",
        "#sabbai lai sang sangai rakhni matrai vanya ho\n",
        "stacktensor"
      ],
      "metadata": {
        "colab": {
          "base_uri": "https://localhost:8080/"
        },
        "id": "DA9Hng8l7WW-",
        "outputId": "e827a5c9-ef62-4aa5-a45d-2f219a4b6339"
      },
      "execution_count": 18,
      "outputs": [
        {
          "output_type": "execute_result",
          "data": {
            "text/plain": [
              "<tf.Tensor: shape=(3, 3, 3, 3), dtype=int64, numpy=\n",
              "array([[[[ 1,  2,  3],\n",
              "         [ 4,  5,  6],\n",
              "         [ 7,  8,  9]],\n",
              "\n",
              "        [[10, 11, 12],\n",
              "         [13, 14, 15],\n",
              "         [16, 17, 18]],\n",
              "\n",
              "        [[19, 20, 21],\n",
              "         [22, 23, 24],\n",
              "         [25, 26, 27]]],\n",
              "\n",
              "\n",
              "       [[[28, 29, 30],\n",
              "         [31, 32, 33],\n",
              "         [34, 35, 36]],\n",
              "\n",
              "        [[37, 38, 39],\n",
              "         [40, 41, 42],\n",
              "         [43, 44, 45]],\n",
              "\n",
              "        [[46, 47, 48],\n",
              "         [49, 50, 51],\n",
              "         [52, 53, 54]]],\n",
              "\n",
              "\n",
              "       [[[55, 56, 57],\n",
              "         [58, 59, 60],\n",
              "         [61, 62, 63]],\n",
              "\n",
              "        [[64, 65, 66],\n",
              "         [67, 68, 69],\n",
              "         [70, 71, 72]],\n",
              "\n",
              "        [[73, 74, 75],\n",
              "         [76, 77, 78],\n",
              "         [79, 80, 81]]]])>"
            ]
          },
          "metadata": {},
          "execution_count": 18
        }
      ]
    },
    {
      "cell_type": "markdown",
      "source": [
        "so concat lae 3 ootai tensors ma vako value lai yeutai matrix ma haldyo\n",
        "#so concat vanya jodni ho\n",
        "\n",
        "tara stack lae yeutai banayo banauna ta tara 3 oota tensors lai farak farak matix ma haldyo yeutai vitra tara\n",
        "\n",
        "#so stack vanya yeuta mathi aarko rakhni ho"
      ],
      "metadata": {
        "id": "N5UwylYl8RDV"
      }
    },
    {
      "cell_type": "markdown",
      "source": [
        "#yesai bhujam\n",
        "jun axis dya ho tesko starting ra ending bracket samatxa sabbai ko aani\n",
        "\n",
        "concat lae chai ta vitra vako element lai yeutai ma lekhxa\n",
        "\n",
        "stack lae chai tya vitra ko element lai yeuta mathi aarko\n",
        "\n",
        "\n",
        "like yedi dita xan tensors\n",
        "[m1,m3]=t1,[m2,m4]=t2\n",
        "\n",
        "\n",
        "aaba concat garda on axis 0\n",
        "\n",
        "[1st element inside that bracket=m1(tyo vanda paxadi ko bracket nai m1 ho),\n",
        "\n",
        "\n",
        "1st element inside that bracket for another=m2\n",
        ".\n",
        ".\n",
        ".\n",
        "so m1+m2 garya vanam yeuta vitra\n",
        "],\n",
        "\n",
        "\n",
        "[\n",
        "  2nd element inside that bracket=m3,\n",
        "\n",
        "  \n",
        "2nd element inside that bracket for another=m4\n",
        "]\n",
        "\n",
        "\n",
        "\n",
        "aani stack garda [m1,m3]=t1,[m2,m4]=t2\n",
        "\n",
        "\n",
        "[[1st element inside that bracket=m1],\n",
        "\n",
        "\n",
        "[1st element inside that bracket for another=m2]\n",
        ".\n",
        ".\n",
        ".\n",
        "simply top top ma rakhya\n",
        "],\n",
        "\n",
        "\n",
        "[\n",
        "  [2nd element inside that bracket=m3],\n",
        "\n",
        "\n",
        "[2nd element inside that bracket for another=m4]\n",
        "]"
      ],
      "metadata": {
        "id": "o63kl2Sv9j1P"
      }
    },
    {
      "cell_type": "code",
      "source": [
        "#concat in axis=1\n",
        "contensor=tf.concat([t1_in3d,t2_in3d,t3_in3d],1)\n",
        "#vanya  sangsangai rakhni vanya\n",
        "#sabbai lai sang sangai rakhni matrai vanya ho\n",
        "contensor"
      ],
      "metadata": {
        "colab": {
          "base_uri": "https://localhost:8080/"
        },
        "id": "RtF8dr_18Kma",
        "outputId": "213fa051-4fbb-446f-baa9-98d7293aafd7"
      },
      "execution_count": 19,
      "outputs": [
        {
          "output_type": "execute_result",
          "data": {
            "text/plain": [
              "<tf.Tensor: shape=(3, 9, 3), dtype=int64, numpy=\n",
              "array([[[ 1,  2,  3],\n",
              "        [ 4,  5,  6],\n",
              "        [ 7,  8,  9],\n",
              "        [28, 29, 30],\n",
              "        [31, 32, 33],\n",
              "        [34, 35, 36],\n",
              "        [55, 56, 57],\n",
              "        [58, 59, 60],\n",
              "        [61, 62, 63]],\n",
              "\n",
              "       [[10, 11, 12],\n",
              "        [13, 14, 15],\n",
              "        [16, 17, 18],\n",
              "        [37, 38, 39],\n",
              "        [40, 41, 42],\n",
              "        [43, 44, 45],\n",
              "        [64, 65, 66],\n",
              "        [67, 68, 69],\n",
              "        [70, 71, 72]],\n",
              "\n",
              "       [[19, 20, 21],\n",
              "        [22, 23, 24],\n",
              "        [25, 26, 27],\n",
              "        [46, 47, 48],\n",
              "        [49, 50, 51],\n",
              "        [52, 53, 54],\n",
              "        [73, 74, 75],\n",
              "        [76, 77, 78],\n",
              "        [79, 80, 81]]])>"
            ]
          },
          "metadata": {},
          "execution_count": 19
        }
      ]
    },
    {
      "cell_type": "code",
      "source": [
        "stacktensor=tf.stack([t1_in3d,t2_in3d,t3_in3d],1)\n",
        "#vanya  sangsangai rakhni vanya\n",
        "#sabbai lai sang sangai rakhni matrai vanya ho\n",
        "stacktensor"
      ],
      "metadata": {
        "colab": {
          "base_uri": "https://localhost:8080/"
        },
        "id": "dmIGKFKcFs7S",
        "outputId": "f2f43fbe-3150-45c1-8f4b-7dd00bb51b2f"
      },
      "execution_count": 20,
      "outputs": [
        {
          "output_type": "execute_result",
          "data": {
            "text/plain": [
              "<tf.Tensor: shape=(3, 3, 3, 3), dtype=int64, numpy=\n",
              "array([[[[ 1,  2,  3],\n",
              "         [ 4,  5,  6],\n",
              "         [ 7,  8,  9]],\n",
              "\n",
              "        [[28, 29, 30],\n",
              "         [31, 32, 33],\n",
              "         [34, 35, 36]],\n",
              "\n",
              "        [[55, 56, 57],\n",
              "         [58, 59, 60],\n",
              "         [61, 62, 63]]],\n",
              "\n",
              "\n",
              "       [[[10, 11, 12],\n",
              "         [13, 14, 15],\n",
              "         [16, 17, 18]],\n",
              "\n",
              "        [[37, 38, 39],\n",
              "         [40, 41, 42],\n",
              "         [43, 44, 45]],\n",
              "\n",
              "        [[64, 65, 66],\n",
              "         [67, 68, 69],\n",
              "         [70, 71, 72]]],\n",
              "\n",
              "\n",
              "       [[[19, 20, 21],\n",
              "         [22, 23, 24],\n",
              "         [25, 26, 27]],\n",
              "\n",
              "        [[46, 47, 48],\n",
              "         [49, 50, 51],\n",
              "         [52, 53, 54]],\n",
              "\n",
              "        [[73, 74, 75],\n",
              "         [76, 77, 78],\n",
              "         [79, 80, 81]]]])>"
            ]
          },
          "metadata": {},
          "execution_count": 20
        }
      ]
    },
    {
      "cell_type": "code",
      "source": [
        "stacktensor=tf.stack([t1_in3d,t2_in3d,t3_in3d],2)\n",
        "#vanya  sangsangai rakhni vanya\n",
        "#sabbai lai sang sangai rakhni matrai vanya ho\n",
        "stacktensor"
      ],
      "metadata": {
        "colab": {
          "base_uri": "https://localhost:8080/"
        },
        "id": "B8OMJE0BGDVc",
        "outputId": "f6cfc583-b17d-4210-e805-72a500985ec0"
      },
      "execution_count": 21,
      "outputs": [
        {
          "output_type": "execute_result",
          "data": {
            "text/plain": [
              "<tf.Tensor: shape=(3, 3, 3, 3), dtype=int64, numpy=\n",
              "array([[[[ 1,  2,  3],\n",
              "         [28, 29, 30],\n",
              "         [55, 56, 57]],\n",
              "\n",
              "        [[ 4,  5,  6],\n",
              "         [31, 32, 33],\n",
              "         [58, 59, 60]],\n",
              "\n",
              "        [[ 7,  8,  9],\n",
              "         [34, 35, 36],\n",
              "         [61, 62, 63]]],\n",
              "\n",
              "\n",
              "       [[[10, 11, 12],\n",
              "         [37, 38, 39],\n",
              "         [64, 65, 66]],\n",
              "\n",
              "        [[13, 14, 15],\n",
              "         [40, 41, 42],\n",
              "         [67, 68, 69]],\n",
              "\n",
              "        [[16, 17, 18],\n",
              "         [43, 44, 45],\n",
              "         [70, 71, 72]]],\n",
              "\n",
              "\n",
              "       [[[19, 20, 21],\n",
              "         [46, 47, 48],\n",
              "         [73, 74, 75]],\n",
              "\n",
              "        [[22, 23, 24],\n",
              "         [49, 50, 51],\n",
              "         [76, 77, 78]],\n",
              "\n",
              "        [[25, 26, 27],\n",
              "         [52, 53, 54],\n",
              "         [79, 80, 81]]]])>"
            ]
          },
          "metadata": {},
          "execution_count": 21
        }
      ]
    },
    {
      "cell_type": "code",
      "source": [
        "stacktensor=tf.concat([t1_in3d,t2_in3d,t3_in3d],2)\n",
        "#vanya  sangsangai rakhni vanya\n",
        "#sabbai lai sang sangai rakhni matrai vanya ho\n",
        "stacktensor"
      ],
      "metadata": {
        "colab": {
          "base_uri": "https://localhost:8080/"
        },
        "id": "WwslHm2AHWor",
        "outputId": "c681d350-14c4-4869-da75-8211b7a1754f"
      },
      "execution_count": 22,
      "outputs": [
        {
          "output_type": "execute_result",
          "data": {
            "text/plain": [
              "<tf.Tensor: shape=(3, 3, 9), dtype=int64, numpy=\n",
              "array([[[ 1,  2,  3, 28, 29, 30, 55, 56, 57],\n",
              "        [ 4,  5,  6, 31, 32, 33, 58, 59, 60],\n",
              "        [ 7,  8,  9, 34, 35, 36, 61, 62, 63]],\n",
              "\n",
              "       [[10, 11, 12, 37, 38, 39, 64, 65, 66],\n",
              "        [13, 14, 15, 40, 41, 42, 67, 68, 69],\n",
              "        [16, 17, 18, 43, 44, 45, 70, 71, 72]],\n",
              "\n",
              "       [[19, 20, 21, 46, 47, 48, 73, 74, 75],\n",
              "        [22, 23, 24, 49, 50, 51, 76, 77, 78],\n",
              "        [25, 26, 27, 52, 53, 54, 79, 80, 81]]])>"
            ]
          },
          "metadata": {},
          "execution_count": 22
        }
      ]
    },
    {
      "cell_type": "markdown",
      "source": [
        "#yesari bhujni wala sajilo  xa\n",
        "tyo bracket samauni aani tesko vitra ko bracket yeuta element hunxa concat ma vayae element wise concat gardai jani\n",
        "stackk ma vayae mathi rakhdai jani"
      ],
      "metadata": {
        "id": "yN6XNjPBHwzj"
      }
    },
    {
      "cell_type": "markdown",
      "source": [
        "#Padding. tf.pad\n",
        "\n",
        "\n",
        "\n",
        "Pads a tensor.\n",
        "\n",
        "tf.pad(\n",
        "\n",
        "\n",
        "    tensor, paddings, mode='CONSTANT', constant_values=0, name=None\n",
        ")\n",
        "\n",
        "\n",
        "tensor  vanya matrix haru vai halae\n",
        "paddings vanya pani tensor nai hun ie\n",
        "[[1,1],[2,2]]\n",
        "\n",
        "first1 =kati oota row halni mathi pati padding ko\n",
        "\n",
        "\n",
        "2nd 1=muni kati oota row halni padding ko\n",
        "\n",
        "1st 2=kati oota column halni left side ma\n",
        "\n",
        "\n",
        "2nd 2=kati oota column halni right side ma\n",
        "\n",
        "with that constant value\n",
        "\n"
      ],
      "metadata": {
        "id": "ur7tpFgLI2HC"
      }
    },
    {
      "cell_type": "code",
      "source": [
        "t = tf.constant([[1, 2, 3], [4, 5, 6]])\n",
        "paddings = tf.constant([[1, 1,], [2, 2]])\n",
        "# 'constant_values' is 0.\n",
        "# rank of 't' is 2.\n",
        "tf.pad(t, paddings, \"CONSTANT\")  # [[0, 0, 0, 0, 0, 0, 0],\n",
        "                                 #  [0, 0, 1, 2, 3, 0, 0],\n",
        "                                 #  [0, 0, 4, 5, 6, 0, 0],\n",
        "                                 #  [0, 0, 0, 0, 0, 0, 0]]\n",
        "\n"
      ],
      "metadata": {
        "colab": {
          "base_uri": "https://localhost:8080/"
        },
        "id": "1hMQ58ClHi0i",
        "outputId": "a735cc55-fafa-487c-ab18-f398111c5a71"
      },
      "execution_count": 23,
      "outputs": [
        {
          "output_type": "execute_result",
          "data": {
            "text/plain": [
              "<tf.Tensor: shape=(4, 7), dtype=int32, numpy=\n",
              "array([[0, 0, 0, 0, 0, 0, 0],\n",
              "       [0, 0, 1, 2, 3, 0, 0],\n",
              "       [0, 0, 4, 5, 6, 0, 0],\n",
              "       [0, 0, 0, 0, 0, 0, 0]], dtype=int32)>"
            ]
          },
          "metadata": {},
          "execution_count": 23
        }
      ]
    },
    {
      "cell_type": "code",
      "source": [
        "#so 1 oota row muni ra mathi\n",
        "#2 oota column left ra right\n",
        ""
      ],
      "metadata": {
        "id": "VbUKaQ7sMEo-"
      },
      "execution_count": 24,
      "outputs": []
    },
    {
      "cell_type": "code",
      "source": [
        "#lets do this for 3d\n",
        "t1_in3d"
      ],
      "metadata": {
        "colab": {
          "base_uri": "https://localhost:8080/"
        },
        "id": "165c2A9cMRln",
        "outputId": "e16bcd5f-a972-4db6-a624-b963f7970fac"
      },
      "execution_count": 25,
      "outputs": [
        {
          "output_type": "execute_result",
          "data": {
            "text/plain": [
              "<tf.Tensor: shape=(3, 3, 3), dtype=int64, numpy=\n",
              "array([[[ 1,  2,  3],\n",
              "        [ 4,  5,  6],\n",
              "        [ 7,  8,  9]],\n",
              "\n",
              "       [[10, 11, 12],\n",
              "        [13, 14, 15],\n",
              "        [16, 17, 18]],\n",
              "\n",
              "       [[19, 20, 21],\n",
              "        [22, 23, 24],\n",
              "        [25, 26, 27]]])>"
            ]
          },
          "metadata": {},
          "execution_count": 25
        }
      ]
    },
    {
      "cell_type": "code",
      "source": [
        "tf.pad(t1_in3d,[[1,1],[2,2],[0,0]],\"CONSTANT\")"
      ],
      "metadata": {
        "colab": {
          "base_uri": "https://localhost:8080/"
        },
        "id": "IwFi3KSOMWAZ",
        "outputId": "19f856a7-d7c1-4be7-e06e-6bd8f23b6ff0"
      },
      "execution_count": 30,
      "outputs": [
        {
          "output_type": "execute_result",
          "data": {
            "text/plain": [
              "<tf.Tensor: shape=(5, 7, 3), dtype=int64, numpy=\n",
              "array([[[ 0,  0,  0],\n",
              "        [ 0,  0,  0],\n",
              "        [ 0,  0,  0],\n",
              "        [ 0,  0,  0],\n",
              "        [ 0,  0,  0],\n",
              "        [ 0,  0,  0],\n",
              "        [ 0,  0,  0]],\n",
              "\n",
              "       [[ 0,  0,  0],\n",
              "        [ 0,  0,  0],\n",
              "        [ 1,  2,  3],\n",
              "        [ 4,  5,  6],\n",
              "        [ 7,  8,  9],\n",
              "        [ 0,  0,  0],\n",
              "        [ 0,  0,  0]],\n",
              "\n",
              "       [[ 0,  0,  0],\n",
              "        [ 0,  0,  0],\n",
              "        [10, 11, 12],\n",
              "        [13, 14, 15],\n",
              "        [16, 17, 18],\n",
              "        [ 0,  0,  0],\n",
              "        [ 0,  0,  0]],\n",
              "\n",
              "       [[ 0,  0,  0],\n",
              "        [ 0,  0,  0],\n",
              "        [19, 20, 21],\n",
              "        [22, 23, 24],\n",
              "        [25, 26, 27],\n",
              "        [ 0,  0,  0],\n",
              "        [ 0,  0,  0]],\n",
              "\n",
              "       [[ 0,  0,  0],\n",
              "        [ 0,  0,  0],\n",
              "        [ 0,  0,  0],\n",
              "        [ 0,  0,  0],\n",
              "        [ 0,  0,  0],\n",
              "        [ 0,  0,  0],\n",
              "        [ 0,  0,  0]]])>"
            ]
          },
          "metadata": {},
          "execution_count": 30
        }
      ]
    },
    {
      "cell_type": "markdown",
      "source": [
        "#padding ma dini tensor axis aanusar huni raixa\n",
        "for 3d tensors 3 oota row hunu paryo\n",
        "[[1,1],[2,2],[3,3]]\n",
        "\n",
        "first 1=kati oota channel mathi thapni\n",
        "\n",
        "secound1=kati oota channel muni thaapni\n",
        "\n",
        "first 2 =kati oota row mathi thapni\n",
        "......"
      ],
      "metadata": {
        "id": "QusTICyuNpVn"
      }
    },
    {
      "cell_type": "code",
      "source": [],
      "metadata": {
        "id": "6Q1Yb4h-Md0t"
      },
      "execution_count": null,
      "outputs": []
    }
  ]
}